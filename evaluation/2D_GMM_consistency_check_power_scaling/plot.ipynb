{
 "cells": [
  {
   "cell_type": "code",
   "execution_count": null,
   "metadata": {},
   "outputs": [],
   "source": [
    "import yaml\n",
    "import torch\n",
    "import matplotlib.pyplot as plt\n",
    "import json\n",
    "import numpy as np\n",
    "import os\n",
    "from pathlib import Path\n",
    "import sys\n",
    "\n",
    "from pinf.models.construct_INN_2D_GMM import set_up_sequence_INN_2D_GMM\n",
    "from pinf.datasets.log_likelihoods import log_p_2D_GMM\n",
    "from pinf.models.histogram import HistogramDist\n",
    "from pinf.models.GMM import GMM\n",
    "from pinf.datasets.parameters import S_2D_GMM,means_2D_GMM"
   ]
  },
  {
   "cell_type": "markdown",
   "metadata": {},
   "source": [
    "Settings\n",
    "\n",
    "---"
   ]
  },
  {
   "cell_type": "code",
   "execution_count": null,
   "metadata": {},
   "outputs": [],
   "source": [
    "T_0 = 1.0\n",
    "T = 0.54556\n",
    "device = \"cuda:0\"\n",
    "bins = 250\n",
    "n_samples = 100000"
   ]
  },
  {
   "cell_type": "markdown",
   "metadata": {},
   "source": [
    "Initialize the target distribution\n",
    "\n",
    "---"
   ]
  },
  {
   "cell_type": "code",
   "execution_count": null,
   "metadata": {},
   "outputs": [],
   "source": [
    "gmm = GMM(means=means_2D_GMM,covs=S_2D_GMM,device=device)\n",
    "\n",
    "with open(\"../../data/2D_GMM/Z_T.json\",\"r\") as f:\n",
    "    Z_T_dict = json.load(f)\n",
    "f.close()"
   ]
  },
  {
   "cell_type": "markdown",
   "metadata": {},
   "source": [
    "Approximate the energy distribution for the target\n",
    "\n",
    "---"
   ]
  },
  {
   "cell_type": "code",
   "execution_count": null,
   "metadata": {},
   "outputs": [],
   "source": [
    "# Get data at the two condition values\n",
    "data_c0 = torch.load(f\"../../data/2D_GMM/validation_data/T_{T_0}_dim_{2}.pt\")[:n_samples].to(device)\n",
    "data_c = torch.load(f\"../../data/2D_GMM/validation_data/T_{T}_dim_{2}.pt\")[:n_samples].to(device)\n",
    "\n",
    "c_0 = 1 / T_0\n",
    "c = 1 / T\n",
    "\n",
    "print(\"c_0 = \",c_0)\n",
    "print(\"c = \",c)"
   ]
  },
  {
   "cell_type": "code",
   "execution_count": null,
   "metadata": {},
   "outputs": [],
   "source": [
    "e_gt_c0 = - log_p_2D_GMM(x = data_c0,beta_tensor=c_0,device=device,gmm=gmm)\n",
    "e_gt_c = - log_p_2D_GMM(x = data_c,beta_tensor=c_0,device=device,gmm=gmm)"
   ]
  },
  {
   "cell_type": "code",
   "execution_count": null,
   "metadata": {},
   "outputs": [],
   "source": [
    "p_e_gt_c0 = HistogramDist(\n",
    "    data = e_gt_c0.detach().cpu(),\n",
    "    n_bins=bins,\n",
    "    device=\"cpu\"\n",
    ")\n",
    "\n",
    "p_e_gt_c = HistogramDist(\n",
    "    data = e_gt_c.detach().cpu(),\n",
    "    n_bins=bins,\n",
    "    device=\"cpu\"\n",
    ")"
   ]
  },
  {
   "cell_type": "markdown",
   "metadata": {},
   "source": [
    "Learned distributions:\n",
    "\n",
    "---\n",
    "\n",
    "TSF"
   ]
  },
  {
   "cell_type": "code",
   "execution_count": null,
   "metadata": {},
   "outputs": [],
   "source": [
    "base_path_volume_preserving =  \"../../results/2D_GMM/<Your experiment name>/lightning_logs/version_0\""
   ]
  },
  {
   "cell_type": "code",
   "execution_count": null,
   "metadata": {},
   "outputs": [],
   "source": [
    "def load_INN_2D_GMM(base_path:str,device:str = \"cuda:0\"):\n",
    "\n",
    "    config_i = yaml.safe_load(Path(base_path + \"/hparams.yaml\").read_text())\n",
    "    state_dict_folder_i = base_path + f\"/checkpoints/\"\n",
    "\n",
    "    files = os.listdir(state_dict_folder_i)\n",
    "    \n",
    "    for f in files:\n",
    "        if f.startswith(\"checkpoint_epoch\"):\n",
    "            state_dict_path_i = os.path.join(state_dict_folder_i,f)\n",
    "            break\n",
    "\n",
    "    config_i[\"device\"] = device\n",
    "\n",
    "    INN_i = set_up_sequence_INN_2D_GMM(config=config_i)\n",
    "    INN_i.load_state_dict(state_dict_path_i)\n",
    "    INN_i.train(False)\n",
    "\n",
    "    print(state_dict_path_i)\n",
    "\n",
    "    return INN_i,config_i"
   ]
  },
  {
   "cell_type": "code",
   "execution_count": null,
   "metadata": {},
   "outputs": [],
   "source": [
    "INN_TSF,_ = load_INN_2D_GMM(\n",
    "    base_path=base_path_volume_preserving,\n",
    "    device=device\n",
    ")\n",
    "\n",
    "INN_TSF.eval()"
   ]
  },
  {
   "cell_type": "code",
   "execution_count": null,
   "metadata": {},
   "outputs": [],
   "source": [
    "# Get energy samples\n",
    "with torch.no_grad():\n",
    "    x_TSF_c0 = INN_TSF.sample(n_samples,c_0)\n",
    "    e_TSF_c0 = - INN_TSF.log_prob(x_TSF_c0,c_0).detach().cpu()\n",
    "\n",
    "    x_TSF_c = INN_TSF.sample(n_samples,c)\n",
    "    e_TSF_c = - INN_TSF.log_prob(x_TSF_c,c_0).detach().cpu()\n",
    "\n",
    "p_e_TSF_c0 = HistogramDist(\n",
    "    data = e_TSF_c0.detach().cpu(),\n",
    "    n_bins=bins,\n",
    "    device=\"cpu\"\n",
    ")\n",
    "\n",
    "p_e_TSF_c = HistogramDist(\n",
    "    data = e_TSF_c.detach().cpu(),\n",
    "    n_bins=bins,\n",
    "    device=\"cpu\"\n",
    ")"
   ]
  },
  {
   "cell_type": "markdown",
   "metadata": {},
   "source": [
    "TRADE\n",
    "\n",
    "---"
   ]
  },
  {
   "cell_type": "code",
   "execution_count": null,
   "metadata": {},
   "outputs": [],
   "source": [
    "base_path_TRADE =   \"../../results/2D_GMM/<Your experiment name>/lightning_logs/version_0\""
   ]
  },
  {
   "cell_type": "code",
   "execution_count": null,
   "metadata": {},
   "outputs": [],
   "source": [
    "INN_TRADE,_ = load_INN_2D_GMM(\n",
    "    base_path=base_path_TRADE,\n",
    "    device=device\n",
    ")\n",
    "\n",
    "INN_TRADE.eval()"
   ]
  },
  {
   "cell_type": "code",
   "execution_count": null,
   "metadata": {},
   "outputs": [],
   "source": [
    "# Get energy samples\n",
    "with torch.no_grad():\n",
    "    x_TRADE_c0 = INN_TRADE.sample(n_samples,c_0)\n",
    "    e_TRADE_c0 = - INN_TRADE.log_prob(x_TRADE_c0,c_0).detach().cpu()\n",
    "\n",
    "    x_TRADE_c = INN_TRADE.sample(n_samples,c)\n",
    "    e_TRADE_c = - INN_TRADE.log_prob(x_TRADE_c,c_0).detach().cpu()\n",
    "\n",
    "p_e_TRADE_c0 = HistogramDist(\n",
    "    data = e_TRADE_c0.detach().cpu(),\n",
    "    n_bins=bins,\n",
    "    device=\"cpu\"\n",
    ")\n",
    "\n",
    "p_e_TRADE_c = HistogramDist(\n",
    "    data = e_TRADE_c.detach().cpu(),\n",
    "    n_bins=bins,\n",
    "    device=\"cpu\"\n",
    ")"
   ]
  },
  {
   "cell_type": "markdown",
   "metadata": {},
   "source": [
    "NLL only\n",
    "\n",
    "---"
   ]
  },
  {
   "cell_type": "code",
   "execution_count": null,
   "metadata": {},
   "outputs": [],
   "source": [
    "base_path_NLL =   \"../../results/2D_GMM/<Your experiment name>/lightning_logs/version_0\""
   ]
  },
  {
   "cell_type": "code",
   "execution_count": null,
   "metadata": {},
   "outputs": [],
   "source": [
    "INN_NLL,_ = load_INN_2D_GMM(\n",
    "    base_path=base_path_NLL,\n",
    "    device=device\n",
    ")\n",
    "\n",
    "INN_NLL.eval()"
   ]
  },
  {
   "cell_type": "code",
   "execution_count": null,
   "metadata": {},
   "outputs": [],
   "source": [
    "# Get energy samples\n",
    "with torch.no_grad():\n",
    "    x_NLL_c0 = INN_NLL.sample(n_samples,c_0)\n",
    "    e_NLL_c0 = - INN_NLL.log_prob(x_NLL_c0,c_0).detach().cpu()\n",
    "\n",
    "    x_NLL_c = INN_NLL.sample(n_samples,c)\n",
    "    e_NLL_c = - INN_NLL.log_prob(x_NLL_c,c_0).detach().cpu()\n",
    "\n",
    "p_e_NLL_c0 = HistogramDist(\n",
    "    data = e_NLL_c0.detach().cpu(),\n",
    "    n_bins=bins,\n",
    "    device=\"cpu\"\n",
    ")\n",
    "\n",
    "p_e_NLL_c = HistogramDist(\n",
    "    data = e_NLL_c.detach().cpu(),\n",
    "    n_bins=bins,\n",
    "    device=\"cpu\"\n",
    ")"
   ]
  },
  {
   "cell_type": "markdown",
   "metadata": {},
   "source": [
    "Plotting\n",
    "\n",
    "---"
   ]
  },
  {
   "cell_type": "code",
   "execution_count": null,
   "metadata": {},
   "outputs": [],
   "source": [
    "e_eval_c0 = torch.linspace(0.0,10,1000)\n",
    "e_eval_c = torch.linspace(0.0,7,1000)\n",
    "\n",
    "fig,axes = plt.subplots(4,2,figsize = (13,15))\n",
    "\n",
    "fs = 20\n",
    "lw = 3\n",
    "\n",
    "################################################################\n",
    "# Ground truth distribution\n",
    "\n",
    "axes[0][0].plot(e_eval_c0,p_e_gt_c0(e_eval_c0),lw = lw,c = \"orange\")\n",
    "axes[0][1].plot(e_eval_c,p_e_gt_c(e_eval_c),lw = lw,c = \"orange\",label = \"target\")\n",
    "\n",
    "p_e_trafo_gt = p_e_gt_c0(e_eval_c) * torch.exp((1 - c / c_0)*e_eval_c)\n",
    "Z = p_e_trafo_gt.sum() * (e_eval_c[1] - e_eval_c[0])\n",
    "p_e_trafo_gt /= Z\n",
    "axes[0][1].plot(e_eval_c,p_e_trafo_gt,lw = lw,c = \"k\",ls = \"--\",label = \"transformed\")\n",
    "\n",
    "################################################################\n",
    "# TSF\n",
    "axes[1][0].plot(e_eval_c0,p_e_TSF_c0(e_eval_c0),lw = lw,c = \"orange\",label = \"target\")\n",
    "axes[1][1].plot(e_eval_c,p_e_TSF_c(e_eval_c),lw = lw,c = \"orange\",label = \"target\")\n",
    "\n",
    "p_e_trafo_TSF = p_e_TSF_c0(e_eval_c) * torch.exp((1 - c / c_0)*e_eval_c)\n",
    "Z = p_e_trafo_TSF.sum() * (e_eval_c[1] - e_eval_c[0])\n",
    "p_e_trafo_TSF /= Z\n",
    "axes[1][1].plot(e_eval_c,p_e_trafo_TSF,lw = lw,c = \"k\",ls = \"--\",label = \"transformed\")\n",
    "\n",
    "################################################################\n",
    "# TRADE\n",
    "axes[2][0].plot(e_eval_c0,p_e_TRADE_c0(e_eval_c0),lw = lw,c = \"orange\",label = \"target\")\n",
    "axes[2][1].plot(e_eval_c,p_e_TRADE_c(e_eval_c),lw = lw,c = \"orange\",label = \"target\")\n",
    "\n",
    "p_e_trafo_TRADE = p_e_TRADE_c0(e_eval_c) * torch.exp((1 - c / c_0)*e_eval_c)\n",
    "Z = p_e_trafo_TRADE.sum() * (e_eval_c[1] - e_eval_c[0])\n",
    "p_e_trafo_TRADE /= Z\n",
    "axes[2][1].plot(e_eval_c,p_e_trafo_TRADE,lw = lw,c = \"k\",ls = \"--\",label = \"transformed\")\n",
    "\n",
    "################################################################\n",
    "# NLL\n",
    "\n",
    "axes[3][0].plot(e_eval_c0,p_e_NLL_c0(e_eval_c0),lw = lw,c = \"orange\",label = \"target\")\n",
    "axes[3][1].plot(e_eval_c,p_e_NLL_c(e_eval_c),lw = lw,c = \"orange\",label = \"target\")\n",
    "\n",
    "p_e_trafo_NLL = p_e_NLL_c0(e_eval_c) * torch.exp((1 - c / c_0)*e_eval_c)\n",
    "Z = p_e_trafo_NLL.sum() * (e_eval_c[1] - e_eval_c[0])\n",
    "p_e_trafo_NLL /= Z\n",
    "axes[3][1].plot(e_eval_c,p_e_trafo_NLL,lw = lw,c = \"k\",ls = \"--\",label = \"transformed\")\n",
    "\n",
    "names = [\"Target\",\"TSF\",\"TRADE\",\"NLL\"]\n",
    "c_list = [r\"$c_0 = $\"+f\"{c_0}\",r\"$c = $\"+f\"{round(c,5)}\"]\n",
    "for i in range(4):\n",
    "    for j in range(2):\n",
    "        axes[i][j].set_title(names[i]+\" \"+c_list[j],fontsize = fs)\n",
    "        axes[i][j].tick_params(axis='x', labelsize=fs)\n",
    "        axes[i][j].tick_params(axis='y', labelsize=fs)\n",
    "        axes[i][j].set_xlabel(\"e\",fontsize = fs)\n",
    "        axes[i][j].set_ylabel(\"p(e)\",fontsize = fs)\n",
    "\n",
    "    axes[i][1].legend(fontsize = fs)\n",
    "\n",
    "plt.tight_layout()\n",
    "\n",
    "plt.savefig(\n",
    "    os.path.join(f\"./transformed_energy_dist.pdf\"),\n",
    "    bbox_inches='tight'\n",
    ")\n",
    "plt.close(fig)"
   ]
  }
 ],
 "metadata": {
  "kernelspec": {
   "display_name": "pinf",
   "language": "python",
   "name": "python3"
  },
  "language_info": {
   "codemirror_mode": {
    "name": "ipython",
    "version": 3
   },
   "file_extension": ".py",
   "mimetype": "text/x-python",
   "name": "python",
   "nbconvert_exporter": "python",
   "pygments_lexer": "ipython3",
   "version": "3.10.16"
  }
 },
 "nbformat": 4,
 "nbformat_minor": 2
}
