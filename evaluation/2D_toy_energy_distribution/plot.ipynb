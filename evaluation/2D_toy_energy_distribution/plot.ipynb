{
 "cells": [
  {
   "cell_type": "code",
   "execution_count": null,
   "metadata": {},
   "outputs": [],
   "source": [
    "import matplotlib.pyplot as plt\n",
    "import torch \n",
    "import tqdm\n",
    "\n",
    "from pinf.plot.utils import eval_pdf_on_grid_2D\n",
    "from pinf.models.GMM import GMM\n",
    "from pinf.models.histogram import HistogramDist"
   ]
  },
  {
   "cell_type": "markdown",
   "metadata": {},
   "source": [
    "Settings\n",
    "\n",
    "---"
   ]
  },
  {
   "cell_type": "code",
   "execution_count": null,
   "metadata": {},
   "outputs": [],
   "source": [
    "n_samples_pseudo_energies = 1000000\n",
    "bs_pseudo_energy = 100000\n",
    "n_bins_hist = 500\n",
    "fs = 20"
   ]
  },
  {
   "cell_type": "markdown",
   "metadata": {},
   "source": [
    "Initialize the distribution\n",
    "\n",
    "---"
   ]
  },
  {
   "cell_type": "code",
   "execution_count": null,
   "metadata": {},
   "outputs": [],
   "source": [
    "m1 = torch.tensor([-0.5,-0.5]).reshape(1,-1)\n",
    "m2 = torch.tensor([0.5,0.5]).reshape(1,-1)\n",
    "means = torch.cat((m1,m2),0)\n",
    "\n",
    "S1 = (torch.eye(2) * 0.2).reshape(1,2,2)\n",
    "S2= (torch.eye(2) * 0.1).reshape(1,2,2)\n",
    "S = torch.cat((S1,S2),0)\n",
    "p_GMM = GMM(means = means,covs=S,weights = torch.tensor([0.5,0.5]))"
   ]
  },
  {
   "cell_type": "markdown",
   "metadata": {},
   "source": [
    "Get pseudo-energies \n",
    "\n",
    "---"
   ]
  },
  {
   "cell_type": "code",
   "execution_count": null,
   "metadata": {},
   "outputs": [],
   "source": [
    "pseudo_energies = torch.zeros([0])\n",
    "\n",
    "n_batches = int(n_samples_pseudo_energies / bs_pseudo_energy)\n",
    "\n",
    "for i in tqdm.tqdm(range(n_batches)):\n",
    "\n",
    "    # Get samples following the target distribution\n",
    "    x_i = p_GMM.sample(bs_pseudo_energy)\n",
    "\n",
    "    # Get the pseudo-energy\n",
    "    e_i = - p_GMM.log_prob(x_i)\n",
    "\n",
    "    pseudo_energies = torch.cat((pseudo_energies,e_i))"
   ]
  },
  {
   "cell_type": "markdown",
   "metadata": {},
   "source": [
    "Get empirical distribution of the pseudo energies\n",
    "\n",
    "---"
   ]
  },
  {
   "cell_type": "code",
   "execution_count": null,
   "metadata": {},
   "outputs": [],
   "source": [
    "p_hist = HistogramDist(\n",
    "    data = pseudo_energies,\n",
    "    n_bins = n_bins_hist\n",
    ")"
   ]
  },
  {
   "cell_type": "markdown",
   "metadata": {},
   "source": [
    "Get energy distribution by integrting the distribution in data space\n",
    "\n",
    "---"
   ]
  },
  {
   "cell_type": "code",
   "execution_count": null,
   "metadata": {},
   "outputs": [],
   "source": [
    "# Evaluate the distribution on a grid\n",
    "lim_pdf_grid = 2.0\n",
    "res_pdf_grid = 2000\n",
    "\n",
    "p_GMM_grid,x_grid,y_grid = eval_pdf_on_grid_2D(\n",
    "    pdf = p_GMM,\n",
    "    x_lims = [-lim_pdf_grid,lim_pdf_grid],\n",
    "    y_lims = [-lim_pdf_grid,lim_pdf_grid],\n",
    "    x_res = res_pdf_grid,\n",
    "    y_res = res_pdf_grid\n",
    "    )\n",
    "\n",
    "# Get the volume element for integration\n",
    "dA = (x_grid[0][1] - x_grid[0][0]) * (y_grid[1][0] - y_grid[0][0])"
   ]
  },
  {
   "cell_type": "code",
   "execution_count": null,
   "metadata": {},
   "outputs": [],
   "source": [
    "# Compute the integral up up to a certain energy threshold\n",
    "e_integral= torch.linspace(pseudo_energies.min()-1,pseudo_energies.max()+1,1000)\n",
    "p_GMM_grid_flat = p_GMM_grid.flatten()\n",
    "\n",
    "integrals = torch.zeros(len(e_integral))\n",
    "\n",
    "for i,e_i in tqdm.tqdm(enumerate(e_integral)):\n",
    "    mask = (-p_GMM_grid_flat.log() < e_i)\n",
    "\n",
    "    I_i = p_GMM_grid_flat[mask].sum() * dA\n",
    "\n",
    "    integrals[i] = I_i"
   ]
  },
  {
   "cell_type": "code",
   "execution_count": null,
   "metadata": {},
   "outputs": [],
   "source": [
    "# Plot the Integral as a function of the threshold\n",
    "fig,ax = plt.subplots(1,1,figsize = (13,6))\n",
    "\n",
    "ax.plot(e_integral,integrals,lw = 3,c = \"k\")\n",
    "\n",
    "ax.tick_params(axis='x', labelsize=fs)\n",
    "ax.tick_params(axis='y', labelsize=fs)\n",
    "ax.set_xlabel(r\"$E'$\",fontsize = fs)\n",
    "ax.set_ylabel(r\"$I(E')$\",fontsize = fs)\n",
    "\n",
    "plt.savefig(\"./energy_distribution_integral.pdf\")"
   ]
  },
  {
   "cell_type": "code",
   "execution_count": null,
   "metadata": {},
   "outputs": [],
   "source": [
    "# Compute the gradient of the integral with respect to the threshold energy\n",
    "e_center = (e_integral[1:] + e_integral[:-1]) / 2\n",
    "\n",
    "de = e_integral[1] - e_integral[0]\n",
    "grad = (integrals[1:] - integrals[:-1]) / de\n",
    "\n",
    "# Normalize the distribution\n",
    "Z = grad.sum() * de\n",
    "grad /= Z"
   ]
  },
  {
   "cell_type": "markdown",
   "metadata": {},
   "source": [
    "Plotting\n",
    "\n",
    "---"
   ]
  },
  {
   "cell_type": "code",
   "execution_count": null,
   "metadata": {},
   "outputs": [],
   "source": [
    "e_plot = torch.linspace(pseudo_energies.min()-1,pseudo_energies.max()+1,1000)\n",
    "\n",
    "fig,ax = plt.subplots(1,1,figsize = (13,6))\n",
    "\n",
    "# Empirical distribution based on observed samples\n",
    "lw = 3\n",
    "\n",
    "ax.plot(e_plot,p_hist(e_plot),label = \"samples\",lw = lw,c = \"orange\")\n",
    "ax.plot(e_center,grad,label = \"integral\",lw = lw,ls = \"-.\",c = \"k\")\n",
    "ax.legend(fontsize = fs)\n",
    "ax.tick_params(axis='x', labelsize=fs)\n",
    "ax.tick_params(axis='y', labelsize=fs)\n",
    "ax.set_xlabel(\"e\",fontsize = fs)\n",
    "ax.set_ylabel(\"p(e)\",fontsize = fs)\n",
    "\n",
    "plt.savefig(\"./energy_distribution_hist_vs_integral.pdf\")"
   ]
  }
 ],
 "metadata": {
  "kernelspec": {
   "display_name": "pinf",
   "language": "python",
   "name": "python3"
  },
  "language_info": {
   "codemirror_mode": {
    "name": "ipython",
    "version": 3
   },
   "file_extension": ".py",
   "mimetype": "text/x-python",
   "name": "python",
   "nbconvert_exporter": "python",
   "pygments_lexer": "ipython3",
   "version": "3.10.16"
  }
 },
 "nbformat": 4,
 "nbformat_minor": 2
}
