{
 "cells": [
  {
   "cell_type": "code",
   "execution_count": null,
   "metadata": {},
   "outputs": [],
   "source": [
    "# This experiment is based on https://github.com/benmoseley/harmonic-oscillator-pinn-workshop\n",
    "# Authored by B. Moseley\n",
    "# under MIT license"
   ]
  },
  {
   "cell_type": "code",
   "execution_count": null,
   "metadata": {},
   "outputs": [],
   "source": [
    "import torch\n",
    "import numpy as np\n",
    "import matplotlib.pyplot as plt\n",
    "import torch.nn as nn\n",
    "import tqdm\n",
    "import os"
   ]
  },
  {
   "cell_type": "markdown",
   "metadata": {},
   "source": [
    "Settings\n",
    "\n",
    "---"
   ]
  },
  {
   "cell_type": "code",
   "execution_count": null,
   "metadata": {},
   "outputs": [],
   "source": [
    "lr = 1e-4\n",
    "d_hidden = 32\n",
    "l = 1e-4\n",
    "plot_freq = 5000\n",
    "n_iter = 30000\n",
    "n_points = 100"
   ]
  },
  {
   "cell_type": "markdown",
   "metadata": {},
   "source": [
    "Configure the ground truth\n",
    "\n",
    "---"
   ]
  },
  {
   "cell_type": "code",
   "execution_count": null,
   "metadata": {},
   "outputs": [],
   "source": [
    "#Set the initial conditions\n",
    "x_0 = 1.0\n",
    "v_0 = 0.0\n",
    "\n",
    "#Set the parameters of the system\n",
    "m = 1.0\n",
    "w_0 = 20\n",
    "delta = 2\n",
    "\n",
    "mu = delta * 2 * m\n",
    "k = m * w_0**2\n",
    "w = np.sqrt(w_0**2 - delta**2)\n",
    "phi = np.arctan(-delta / w)\n",
    "A = 1 / (2 * np.cos(phi))\n",
    "print(phi)\n",
    "\n",
    "print(\"m = \",m)\n",
    "print(\"k = \",k)\n",
    "print(\"mu = \",mu)"
   ]
  },
  {
   "cell_type": "markdown",
   "metadata": {},
   "source": [
    "Generate training data\n",
    "\n",
    "---"
   ]
  },
  {
   "cell_type": "code",
   "execution_count": null,
   "metadata": {},
   "outputs": [],
   "source": [
    "def solution(t):\n",
    "    y = np.exp(-delta * t) * (2 * A * torch.cos(phi + w * t))\n",
    "    return y\n",
    "\n",
    "t_data = torch.linspace(0, 0.401, 20).reshape(-1,1)\n",
    "x_data = solution(t_data).reshape(-1,1)"
   ]
  },
  {
   "cell_type": "code",
   "execution_count": null,
   "metadata": {},
   "outputs": [],
   "source": [
    "t_eval = torch.linspace(0, 1,1000)\n",
    "plt.plot(t_eval, solution(t_eval))\n",
    "plt.scatter(t_data.squeeze(), x_data.squeeze(), color='red')"
   ]
  },
  {
   "cell_type": "markdown",
   "metadata": {},
   "source": [
    "Train a model with the PINN loss\n",
    "\n",
    "---"
   ]
  },
  {
   "cell_type": "code",
   "execution_count": null,
   "metadata": {},
   "outputs": [],
   "source": [
    "u_PI = nn.Sequential(\n",
    "    nn.Linear(1, d_hidden),\n",
    "    nn.Tanh(),\n",
    "    nn.Linear(d_hidden, d_hidden),\n",
    "    nn.Tanh(),\n",
    "    nn.Linear(d_hidden, d_hidden),\n",
    "    nn.Tanh(),\n",
    "    nn.Linear(d_hidden, d_hidden),\n",
    "    nn.Tanh(),\n",
    "    nn.Linear(d_hidden, 1)\n",
    ")\n",
    "\n",
    "optimizer = torch.optim.Adam(u_PI.parameters(), lr=lr)\n",
    "\n",
    "t = torch.linspace(0, 1.0, n_points).reshape(-1, 1).requires_grad_(True)\n",
    "\n",
    "for i in tqdm.tqdm(range(n_iter)):\n",
    "\n",
    "    x = u_PI(t)\n",
    "    x_dot = torch.autograd.grad(x.sum(), t, create_graph=True,retain_graph=True)[0]\n",
    "    x_dot_dot = torch.autograd.grad(x_dot.sum(), t, create_graph=True,retain_graph=True)[0]\n",
    "\n",
    "    r = (m * x_dot_dot + mu *  x_dot + k *  x).squeeze().pow(2)\n",
    "    loss_r = r.mean()\n",
    "\n",
    "    loss_data = (u_PI(t_data) - x_data).pow(2).squeeze().mean()\n",
    "   \n",
    "    loss =  loss_data + l * loss_r \n",
    "\n",
    "    optimizer.zero_grad()\n",
    "    loss.backward()\n",
    "    optimizer.step()"
   ]
  },
  {
   "cell_type": "markdown",
   "metadata": {},
   "source": [
    "train a model without PINN loss:\n",
    "---"
   ]
  },
  {
   "cell_type": "code",
   "execution_count": null,
   "metadata": {},
   "outputs": [],
   "source": [
    "u_plain = nn.Sequential(\n",
    "    nn.Linear(1, d_hidden),\n",
    "    nn.Tanh(),\n",
    "    nn.Linear(d_hidden, d_hidden),\n",
    "    nn.Tanh(),\n",
    "    nn.Linear(d_hidden, d_hidden),\n",
    "    nn.Tanh(),\n",
    "    nn.Linear(d_hidden, d_hidden),\n",
    "    nn.Tanh(),\n",
    "    nn.Linear(d_hidden, 1)\n",
    ")\n",
    "\n",
    "optimizer = torch.optim.Adam(u_plain.parameters(), lr=lr)\n",
    "\n",
    "t = torch.linspace(0, 1.0, n_points).reshape(-1, 1).requires_grad_(True)\n",
    "\n",
    "for i in tqdm.tqdm(range(n_iter)):\n",
    "\n",
    "    loss_data = (u_plain(t_data) - x_data).pow(2).squeeze().mean()\n",
    "   \n",
    "    loss =  loss_data \n",
    "\n",
    "    optimizer.zero_grad()\n",
    "    loss.backward()\n",
    "    optimizer.step()"
   ]
  },
  {
   "cell_type": "markdown",
   "metadata": {},
   "source": [
    "Compare the results\n",
    "\n",
    "---"
   ]
  },
  {
   "cell_type": "code",
   "execution_count": null,
   "metadata": {},
   "outputs": [],
   "source": [
    "fig,ax = plt.subplots(1,1, figsize=(12,5))\n",
    "\n",
    "fs = 20\n",
    "t_eval = torch.linspace(0, 1,1000)\n",
    "ax.plot(t_eval, solution(t_eval),color = \"k\",ls = \"dashed\",label = \"true solution\",lw = 3)\n",
    "ax.scatter(t_data.squeeze(), x_data.squeeze(), color='red',label = \"training data\",s = 100)\n",
    "\n",
    "ax.plot(t_eval.detach().numpy(), u_PI(t_eval.reshape(-1,1)).detach().squeeze().numpy(), color='green',label = \"data + PI loss\",lw = 3)\n",
    "ax.plot(t_eval.detach().numpy(), u_plain(t_eval.reshape(-1,1)).detach().squeeze().numpy(), color='blue',label = \"data\",lw = 3)\n",
    "ax.tick_params(axis='both', which='major', labelsize=fs)\n",
    "\n",
    "ax.set_xlabel(\"t\",fontsize = fs)\n",
    "ax.set_ylabel(\"u(t)\",fontsize = fs)\n",
    "\n",
    "plt.tight_layout()\n",
    "\n",
    "handles, labels = [], []\n",
    "\n",
    "for handle, label in zip(*ax.get_legend_handles_labels()):\n",
    "    handles.append(handle)\n",
    "    labels.append(label)\n",
    "\n",
    "# Add a single legend below all subplots\n",
    "fig.legend(handles, labels, loc='upper center', bbox_to_anchor=(0.5, 0.05), ncol=4,fontsize = fs)\n",
    "\n",
    "os.makedirs(\"../../results/harmonic_oscillator/\")\n",
    "plt.savefig(\n",
    "    \"../../results/harmonic_oscillator/PINN_damped_oscillator.pdf\",\n",
    "    bbox_inches='tight'\n",
    "    )\n",
    "plt.close(fig)"
   ]
  }
 ],
 "metadata": {
  "kernelspec": {
   "display_name": "pinf",
   "language": "python",
   "name": "python3"
  },
  "language_info": {
   "codemirror_mode": {
    "name": "ipython",
    "version": 3
   },
   "file_extension": ".py",
   "mimetype": "text/x-python",
   "name": "python",
   "nbconvert_exporter": "python",
   "pygments_lexer": "ipython3",
   "version": "3.10.16"
  }
 },
 "nbformat": 4,
 "nbformat_minor": 2
}
